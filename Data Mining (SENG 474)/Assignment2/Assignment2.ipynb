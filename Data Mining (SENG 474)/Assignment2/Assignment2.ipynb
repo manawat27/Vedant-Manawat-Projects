{
 "cells": [
  {
   "cell_type": "code",
   "execution_count": 197,
   "metadata": {},
   "outputs": [],
   "source": [
    "import os\n",
    "import gzip\n",
    "import numpy as np\n",
    "from sklearn import svm\n",
    "import matplotlib.pyplot as plt\n",
    "from sklearn.linear_model import LogisticRegression"
   ]
  },
  {
   "cell_type": "code",
   "execution_count": 198,
   "metadata": {},
   "outputs": [],
   "source": [
    "def load_mnist(path, kind='train'):\n",
    "    \"\"\"Load MNIST data from `path`\"\"\"\n",
    "    labels_path = os.path.join(path,\n",
    "                               '%s-labels-idx1-ubyte.gz'\n",
    "                               % kind)\n",
    "    images_path = os.path.join(path,\n",
    "                               '%s-images-idx3-ubyte.gz'\n",
    "                               % kind)\n",
    "\n",
    "    with gzip.open(labels_path, 'rb') as lbpath:\n",
    "        labels = np.frombuffer(lbpath.read(), dtype=np.uint8,\n",
    "                               offset=8)\n",
    "\n",
    "    with gzip.open(images_path, 'rb') as imgpath:\n",
    "        images = np.frombuffer(imgpath.read(), dtype=np.uint8,\n",
    "                               offset=16).reshape(len(labels), 784)\n",
    "\n",
    "    return images, labels\n"
   ]
  },
  {
   "cell_type": "code",
   "execution_count": 199,
   "metadata": {},
   "outputs": [],
   "source": [
    "def get_data(X_arr, y_arr):\n",
    "    class_5 = list(np.where(y_arr == 5))\n",
    "    class_7 = list(np.where(y_arr == 7))\n",
    "\n",
    "    temp = list(class_5[0])\n",
    "    for item in list(class_7[0]):\n",
    "        temp.append(item)\n",
    "\n",
    "    temp_indices = np.array(temp)\n",
    "    indices_to_keep = np.sort(temp_indices)\n",
    "\n",
    "    accessed_mapping = map(list(X_arr).__getitem__, indices_to_keep)\n",
    "    new_x_arr = list(accessed_mapping)\n",
    "\n",
    "    accessed_mapping = map(list(y_arr).__getitem__, indices_to_keep)\n",
    "    new_y_arr = list(accessed_mapping)\n",
    "\n",
    "    return new_x_arr,new_y_arr\n",
    "\n",
    "X_train, y_train = load_mnist('data/fashion/', kind='train')\n",
    "X_test, y_test = load_mnist('data/fashion/', kind='t10k')\n",
    "\n",
    "temp_X_train,temp_y_train = get_data(X_train,y_train)\n",
    "temp_X_test,temp_y_test = get_data(X_test,y_test)\n",
    "\n",
    "new_X_train = [item / 255 for item in temp_X_train[:len(temp_X_train)//2]]\n",
    "new_X_test = [item / 255 for item in temp_X_test[:len(temp_X_test)//2]]\n",
    "\n",
    "new_y_train = temp_y_train[:len(temp_y_train)//2]\n",
    "new_y_test = temp_y_test[:len(temp_y_test)//2]\n",
    "\n",
    "# print(len(new_X_train))\n",
    "# print(len(new_y_train))\n",
    "# print(len(new_X_test))\n",
    "# print(len(new_y_test))\n",
    "\n"
   ]
  },
  {
   "cell_type": "markdown",
   "metadata": {},
   "source": [
    "## Linear Regression"
   ]
  },
  {
   "cell_type": "code",
   "execution_count": 200,
   "metadata": {},
   "outputs": [],
   "source": [
    "def regression_experiments(train,test,regularization):\n",
    "    clf = LogisticRegression(max_iter=100000,C=regularization,penalty='l2',multi_class='multinomial').fit(new_X_train, new_y_train)\n",
    "    train[regularization] = clf.score(new_X_train, new_y_train)\n",
    "    test[regularization] = clf.score(new_X_test, new_y_test)\n",
    "\n",
    "# C0 = 0.05, alpha = 1.5\n",
    "logarithmic_regularization = [0.05,0.07500000000000001,0.1125,0.16875,0.253125,0.3796875,0.56953125,\n",
    "                            0.8542968750000001,1.2814453125,1.9221679687500002] \n",
    "train_reg,test_reg = {},{}\n",
    "for item in logarithmic_regularization:\n",
    "    regression_experiments(train_reg,test_reg,item)\n"
   ]
  },
  {
   "cell_type": "code",
   "execution_count": 236,
   "metadata": {},
   "outputs": [
    {
     "name": "stdout",
     "output_type": "stream",
     "text": [
      "Accuracy on training set\n",
      "\tMin accuracy is 0.964444 with regularization parameter of 0.050000\n",
      "\tMax accuracy is 0.980000 with regularization parameter of 1.922168\n",
      "\tAverage accuracy: 0.9728333333333333\n",
      "\n",
      "Accuracy on validation set\n",
      "\tMin accuracy is 0.954000 with regularization parameter of 1.922168\n",
      "\tMax accuracy is 0.966000 with regularization parameter of 0.168750\n",
      "\tAverage accuracy: 0.9606\n"
     ]
    },
    {
     "data": {
      "image/png": "[encoded data removed]",
      "text/plain": [
       "<Figure size 432x288 with 1 Axes>"
      ]
     },
     "metadata": {
      "needs_background": "light"
     },
     "output_type": "display_data"
    }
   ],
   "source": [
    "print(\"Accuracy on training set\")\n",
    "print(\"\\tMin accuracy is %f with regularization parameter of %f\" % (min(train_reg.values()),list(train_reg.keys())[list(train_reg.values()).index(min(train_reg.values()))]))\n",
    "print(\"\\tMax accuracy is %f with regularization parameter of %f\" % (max(train_reg.values()),list(train_reg.keys())[list(train_reg.values()).index(max(train_reg.values()))]))\n",
    "print(\"\\tAverage accuracy:\", sum(list(train_reg.values()))/len(list(train_reg.values())))\n",
    "\n",
    "print(\"\\nAccuracy on validation set\")\n",
    "print(\"\\tMin accuracy is %f with regularization parameter of %f\" % (min(test_reg.values()),list(test_reg.keys())[list(test_reg.values()).index(min(test_reg.values()))]))\n",
    "print(\"\\tMax accuracy is %f with regularization parameter of %f\" % (max(test_reg.values()),list(test_reg.keys())[list(test_reg.values()).index(max(test_reg.values()))]))\n",
    "print(\"\\tAverage accuracy:\", sum(list(test_reg.values()))/len(list(test_reg.values())))\n",
    "\n",
    "plt.title(\"Logistic Regression with varying regularization parameter\")\n",
    "plt.xlabel(\"Regularization Parameter\")\n",
    "plt.ylabel(\"Accuracy\")\n",
    "plt.plot(list(train_reg.keys()),list(train_reg.values()))   \n",
    "plt.plot(list(test_reg.keys()),list(test_reg.values()))   \n",
    "plt.legend([\"Train\",\"Test\"])\n",
    "plt.show()"
   ]
  },
  {
   "cell_type": "markdown",
   "metadata": {},
   "source": [
    "# Support Vector Machine (SVM)"
   ]
  },
  {
   "cell_type": "code",
   "execution_count": 238,
   "metadata": {},
   "outputs": [
    {
     "name": "stdout",
     "output_type": "stream",
     "text": [
      "10 10\n"
     ]
    }
   ],
   "source": [
    "def Vector_Machine(train_dict,test_dict,regularization):\n",
    "    vec_machine = svm.SVC(kernel='linear',C=regularization)\n",
    "    vec_machine.fit(new_X_train,new_y_train)\n",
    "    train_dict[regularization] = vec_machine.score(new_X_train,new_y_train)\n",
    "    test_dict[regularization] =  vec_machine.score(new_X_test,new_y_test)\n",
    "\n",
    "train_dict,test_dict = {},{}\n",
    "c0 = 0.01\n",
    "alpha = 1.5\n",
    "logarithmic_regularization = []\n",
    "for alpha_exponent in range(10):\n",
    "    r = (alpha ** alpha_exponent) * c0\n",
    "    logarithmic_regularization.append(r)\n",
    "    \n",
    "# C0 = 0.05, alpha = 1.5\n",
    "# logarithmic_regularization = [0.05,0.07500000000000001,0.1125,0.16875,0.253125,0.3796875,0.56953125,\n",
    "#                             0.8542968750000001,1.2814453125,1.9221679687500002] \n",
    "for item in logarithmic_regularization:\n",
    "    Vector_Machine(train_dict,test_dict,item)\n",
    "\n",
    "print(len(train_dict),len(test_dict))"
   ]
  },
  {
   "cell_type": "code",
   "execution_count": 240,
   "metadata": {},
   "outputs": [
    {
     "name": "stdout",
     "output_type": "stream",
     "text": [
      "Accuracy on training set\n",
      "\tMin accuracy is 0.955500 with regularization parameter of 0.010000\n",
      "\tMax accuracy is 0.976500 with regularization parameter of 0.384434\n",
      "\tAverage accuracy: 0.9674166666666666\n",
      "\n",
      "Accuracy on validation set\n",
      "\tMin accuracy is 0.952000 with regularization parameter of 0.010000\n",
      "\tMax accuracy is 0.965000 with regularization parameter of 0.075938\n",
      "\tAverage accuracy: 0.9588000000000001\n"
     ]
    },
    {
     "data": {
      "image/png": "[encoded data removed]",
      "text/plain": [
       "<Figure size 432x288 with 1 Axes>"
      ]
     },
     "metadata": {
      "needs_background": "light"
     },
     "output_type": "display_data"
    }
   ],
   "source": [
    "print(\"Accuracy on training set\")\n",
    "print(\"\\tMin accuracy is %f with regularization parameter of %f\" % (min(train_dict.values()),list(train_dict.keys())[list(train_dict.values()).index(min(train_dict.values()))]))\n",
    "print(\"\\tMax accuracy is %f with regularization parameter of %f\" % (max(train_dict.values()),list(train_dict.keys())[list(train_dict.values()).index(max(train_dict.values()))]))\n",
    "print(\"\\tAverage accuracy:\", sum(list(train_dict.values()))/len(list(train_dict.values())))\n",
    "\n",
    "print(\"\\nAccuracy on validation set\")\n",
    "print(\"\\tMin accuracy is %f with regularization parameter of %f\" % (min(test_dict.values()),list(test_dict.keys())[list(test_dict.values()).index(min(test_dict.values()))]))\n",
    "print(\"\\tMax accuracy is %f with regularization parameter of %f\" % (max(test_dict.values()),list(test_dict.keys())[list(test_dict.values()).index(max(test_dict.values()))]))\n",
    "print(\"\\tAverage accuracy:\", sum(list(test_dict.values()))/len(list(test_dict.values())))\n",
    "\n",
    "plt.title(\"SVM with varying regularization parameter\")\n",
    "plt.xlabel(\"Regularization Parameter\")\n",
    "plt.ylabel(\"Accuracy\")\n",
    "plt.plot(list(train_dict.keys()),list(train_dict.values()))   \n",
    "plt.plot(list(test_dict.keys()),list(test_dict.values()))   \n",
    "plt.legend([\"Train\",\"Test\"])\n",
    "plt.show()"
   ]
  },
  {
   "cell_type": "markdown",
   "metadata": {},
   "source": [
    "# K-Fold Cross Validation"
   ]
  },
  {
   "cell_type": "code",
   "execution_count": null,
   "metadata": {},
   "outputs": [],
   "source": [
    "#Credit for code: https://machinelearningmastery.com/implement-resampling-methods-scratch-python/#:~:text=in%20the%20split.-,We%20then%20create,-a%20list%20of\n",
    "import random \n",
    "# splitting data into k-folds\n",
    "def cross_val(dataset_X,dataset_y,folds):\n",
    "    data_split_X = list()\n",
    "    data_split_y = list()\n",
    "    data_copy_X = list(dataset_X)\n",
    "    data_copy_y = list(dataset_y)\n",
    "    fold_len = int(len(dataset_X)/folds)\n",
    "\n",
    "    for i in range(folds):\n",
    "        fold_X = list()\n",
    "        fold_y = list()\n",
    "        while (len(fold_X) < fold_len) and (len(fold_y) < fold_len):\n",
    "            ind = random.randrange(len(data_copy_X))\n",
    "            fold_X.append(data_copy_X.pop(ind))\n",
    "            fold_y.append(data_copy_y.pop(ind))\n",
    "        data_split_X.append(fold_X)\n",
    "        data_split_y.append(fold_y)\n",
    "    return data_split_X, data_split_y\n",
    "\n",
    "folds_X,folds_y = cross_val(new_X_train,new_y_train,10)\n"
   ]
  },
  {
   "cell_type": "markdown",
   "metadata": {},
   "source": [
    "## K-Fold for logistic Regression\n",
    "### Finding the best regularization parameter"
   ]
  },
  {
   "cell_type": "code",
   "execution_count": 242,
   "metadata": {},
   "outputs": [],
   "source": [
    "def regression_experiments_new(train_X,train_y,test_X,test_y,train_reg,validation_reg,regularization):\n",
    "    clf = LogisticRegression(max_iter=100000,C=regularization,penalty='l2',multi_class='multinomial').fit(train_X, train_y)\n",
    "    train_reg[regularization] = clf.score(train_X,train_y)\n",
    "    validation_reg[regularization] = clf.score(test_X,test_y)\n",
    "\n",
    "def formulate_new_data(validation):\n",
    "    temp_train_X = folds_X.copy()\n",
    "    temp_train_X.pop(validation)\n",
    "\n",
    "    temp_train_y = folds_y.copy()\n",
    "    temp_train_y.pop(validation)\n",
    "\n",
    "    k_train_X = sum(temp_train_X, [])\n",
    "    k_train_y = sum(temp_train_y, [])\n",
    "\n",
    "    k_test_X = folds_X[validation]\n",
    "    k_test_y = folds_y[validation]\n",
    "\n",
    "    return (k_train_X,k_train_y,k_test_X,k_test_y)\n",
    "\n",
    "\n",
    "validation = random.choice(range(1,11))\n",
    "train_x,train_y,test_x,test_y = formulate_new_data(validation-1)\n",
    "\n",
    "# C0 = 0.05, alpha = 1.5\n",
    "logarithmic_regularization = [0.05,0.07500000000000001,0.1125,0.16875,0.253125,0.3796875,0.56953125,\n",
    "                            0.8542968750000001,1.2814453125,1.9221679687500002] \n",
    "train_reg,validation_reg = {},{}\n",
    "for item in logarithmic_regularization:\n",
    "    regression_experiments_new(train_x,train_y,test_x,test_y,train_reg,validation_reg,item)"
   ]
  },
  {
   "cell_type": "code",
   "execution_count": 243,
   "metadata": {},
   "outputs": [
    {
     "name": "stdout",
     "output_type": "stream",
     "text": [
      "Accuracy on training set\n",
      "\tMin accuracy is 0.961481 with regularization parameter of 0.050000\n",
      "\tMax accuracy is 0.980370 with regularization parameter of 1.922168\n",
      "\tAverage accuracy: 0.972574074074074\n",
      "\n",
      "Accuracy on validation set\n",
      "\tMin accuracy is 0.948333 with regularization parameter of 1.281445\n",
      "\tMax accuracy is 0.958333 with regularization parameter of 0.050000\n",
      "\tAverage accuracy: 0.9535000000000002\n"
     ]
    },
    {
     "data": {
      "image/png": "[encoded data removed]",
      "text/plain": [
       "<Figure size 432x288 with 1 Axes>"
      ]
     },
     "metadata": {
      "needs_background": "light"
     },
     "output_type": "display_data"
    }
   ],
   "source": [
    "print(\"Accuracy on training set\")\n",
    "print(\"\\tMin accuracy is %f with regularization parameter of %f\" % (min(train_reg.values()),list(train_reg.keys())[list(train_reg.values()).index(min(train_reg.values()))]))\n",
    "print(\"\\tMax accuracy is %f with regularization parameter of %f\" % (max(train_reg.values()),list(train_reg.keys())[list(train_reg.values()).index(max(train_reg.values()))]))\n",
    "print(\"\\tAverage accuracy:\", sum(list(train_reg.values()))/len(list(train_reg.values())))\n",
    "\n",
    "print(\"\\nAccuracy on validation set\")\n",
    "print(\"\\tMin accuracy is %f with regularization parameter of %f\" % (min(validation_reg.values()),list(validation_reg.keys())[list(validation_reg.values()).index(min(validation_reg.values()))]))\n",
    "print(\"\\tMax accuracy is %f with regularization parameter of %f\" % (max(validation_reg.values()),list(validation_reg.keys())[list(validation_reg.values()).index(max(validation_reg.values()))]))\n",
    "print(\"\\tAverage accuracy:\", sum(list(validation_reg.values()))/len(list(validation_reg.values())))\n",
    "\n",
    "plt.title(\"Logistic Regression with varying regularization parameter\")\n",
    "plt.xlabel(\"Regularization Parameter\")\n",
    "plt.ylabel(\"Accuracy\")\n",
    "plt.plot(list(train_reg.keys()),list(train_reg.values()))   \n",
    "plt.plot(list(validation_reg.keys()),list(validation_reg.values()))   \n",
    "plt.legend([\"Train\",\"Test\"])\n",
    "plt.show()"
   ]
  },
  {
   "cell_type": "markdown",
   "metadata": {},
   "source": [
    "## Training full dataset with optimal regularization parameter for Logistic Regression"
   ]
  },
  {
   "cell_type": "code",
   "execution_count": 245,
   "metadata": {},
   "outputs": [
    {
     "name": "stdout",
     "output_type": "stream",
     "text": [
      "0.05\n",
      "Trainign accuracy 0.962667\n",
      "Testing accuracy 0.960000\n"
     ]
    }
   ],
   "source": [
    "regularization_param = list(validation_reg.keys())[list(validation_reg.values()).index(max(validation_reg.values()))]\n",
    "print(regularization_param)\n",
    "clf2 = LogisticRegression(max_iter=100000,C=regularization_param,penalty='l2',multi_class='multinomial').fit(new_X_train, new_y_train)\n",
    "print(\"Trainign accuracy %f\" % clf2.score(new_X_train, new_y_train))\n",
    "print(\"Testing accuracy %f\" % clf2.score(new_X_test, new_y_test))\n"
   ]
  },
  {
   "cell_type": "markdown",
   "metadata": {},
   "source": [
    "## K-Fold for SVM\n",
    "### Finidng the best regularization parameter"
   ]
  },
  {
   "cell_type": "code",
   "execution_count": 246,
   "metadata": {},
   "outputs": [],
   "source": [
    "def Vector_Machine_new(train_x,train_y,test_x,test_y,train_svm,validation_svm,regularization):\n",
    "    vec_machine = svm.SVC(kernel='linear',C=regularization)\n",
    "    vec_machine.fit(train_x,train_y)\n",
    "\n",
    "    train_svm[regularization] = vec_machine.score(train_x,train_y)\n",
    "    validation_svm[regularization] = vec_machine.score(test_x,test_y)\n",
    "\n",
    "validation = random.choice(range(1,11))\n",
    "train_x,train_y,test_x,test_y = formulate_new_data(validation-1)\n",
    "\n",
    "c0 = 0.01\n",
    "alpha = 1.5\n",
    "logarithmic_regularization = []\n",
    "for alpha_exponent in range(10):\n",
    "    r = (alpha ** alpha_exponent) * c0\n",
    "    logarithmic_regularization.append(r)\n",
    "\n",
    "# # C0 = 0.05, alpha = 1.5\n",
    "# logarithmic_regularization = [0.05,0.07500000000000001,0.1125,0.16875,0.253125,0.3796875,0.56953125,\n",
    "#                             0.8542968750000001,1.2814453125,1.9221679687500002] \n",
    "train_svm,validation_svm = {},{}\n",
    "for item in logarithmic_regularization:\n",
    "    Vector_Machine_new(train_x,train_y,test_x,test_y,train_svm,validation_svm,item)"
   ]
  },
  {
   "cell_type": "code",
   "execution_count": 247,
   "metadata": {},
   "outputs": [
    {
     "name": "stdout",
     "output_type": "stream",
     "text": [
      "Accuracy on training set\n",
      "\tMin accuracy is 0.954630 with regularization parameter of 0.010000\n",
      "\tMax accuracy is 0.978704 with regularization parameter of 0.384434\n",
      "\tAverage accuracy: 0.9679814814814816\n",
      "\n",
      "Accuracy on validation set\n",
      "\tMin accuracy is 0.946667 with regularization parameter of 0.010000\n",
      "\tMax accuracy is 0.956667 with regularization parameter of 0.050625\n",
      "\tAverage accuracy: 0.9496666666666668\n"
     ]
    },
    {
     "data": {
      "image/png": "[encoded data removed]",
      "text/plain": [
       "<Figure size 432x288 with 1 Axes>"
      ]
     },
     "metadata": {
      "needs_background": "light"
     },
     "output_type": "display_data"
    }
   ],
   "source": [
    "print(\"Accuracy on training set\")\n",
    "print(\"\\tMin accuracy is %f with regularization parameter of %f\" % (min(train_svm.values()),list(train_svm.keys())[list(train_svm.values()).index(min(train_svm.values()))]))\n",
    "print(\"\\tMax accuracy is %f with regularization parameter of %f\" % (max(train_svm.values()),list(train_svm.keys())[list(train_svm.values()).index(max(train_svm.values()))]))\n",
    "print(\"\\tAverage accuracy:\", sum(list(train_svm.values()))/len(list(train_svm.values())))\n",
    "\n",
    "print(\"\\nAccuracy on validation set\")\n",
    "print(\"\\tMin accuracy is %f with regularization parameter of %f\" % (min(validation_svm.values()),list(validation_svm.keys())[list(validation_svm.values()).index(min(validation_svm.values()))]))\n",
    "print(\"\\tMax accuracy is %f with regularization parameter of %f\" % (max(validation_svm.values()),list(validation_svm.keys())[list(validation_svm.values()).index(max(validation_svm.values()))]))\n",
    "print(\"\\tAverage accuracy:\", sum(list(validation_svm.values()))/len(list(validation_svm.values())))\n",
    "\n",
    "plt.title(\"SVM with varying regularization parameter on folded data\")\n",
    "plt.xlabel(\"Regularization Parameter\")\n",
    "plt.ylabel(\"Accuracy\")\n",
    "plt.plot(list(train_svm.keys()),list(train_svm.values()))   \n",
    "plt.plot(list(validation_svm.keys()),list(validation_svm.values()))   \n",
    "plt.legend([\"Train\",\"Test\"])\n",
    "plt.show()"
   ]
  },
  {
   "cell_type": "markdown",
   "metadata": {},
   "source": [
    "## Training full dataset with optimal regularization parameter for SVM"
   ]
  },
  {
   "cell_type": "code",
   "execution_count": 248,
   "metadata": {},
   "outputs": [
    {
     "name": "stdout",
     "output_type": "stream",
     "text": [
      "0.050625\n",
      "Trainign accuracy 0.967667\n",
      "Testing accuracy 0.959000\n"
     ]
    }
   ],
   "source": [
    "regularization_param = list(validation_svm.keys())[list(validation_svm.values()).index(max(validation_svm.values()))]\n",
    "print(regularization_param)\n",
    "vec_machine = svm.SVC(kernel='linear',C=regularization_param)\n",
    "vec_machine.fit(new_X_train, new_y_train)\n",
    "print(\"Trainign accuracy %f\" % vec_machine.score(new_X_train, new_y_train))\n",
    "print(\"Testing accuracy %f\" % vec_machine.score(new_X_test, new_y_test))\n"
   ]
  },
  {
   "cell_type": "markdown",
   "metadata": {},
   "source": [
    "## Kernelized SVM with Gaussian Kernel "
   ]
  },
  {
   "cell_type": "code",
   "execution_count": 249,
   "metadata": {},
   "outputs": [],
   "source": [
    "def svm_gaussian(train_x,train_y,test_x,test_y,scale,regularization,valid_gaus):\n",
    "    vec_machine = svm.SVC(kernel='rbf',C=regularization,gamma=scale)\n",
    "    vec_machine.fit(train_x,train_y)\n",
    "    valid_gaus[(scale,regularization)] = vec_machine.score(test_x,test_y)\n",
    "\n",
    "c0 = 0.01\n",
    "alpha = 1.5\n",
    "gammas = []\n",
    "for alpha_exponent in range(10):\n",
    "    gamma = (alpha ** alpha_exponent) * c0\n",
    "    gammas.append(gamma)\n",
    "\n",
    "logarithmic_regularization = [0.05,0.07500000000000001,0.1125,0.16875,0.253125,0.3796875,0.56953125,\n",
    "                            0.8542968750000001,1.2814453125,1.9221679687500002] \n",
    "optimal_pairs = {}\n",
    "for item in gammas:\n",
    "    valid_gaus = {}\n",
    "    validation = random.choice(range(1,11))\n",
    "    train_x,train_y,test_x,test_y = formulate_new_data(validation-1)\n",
    "    for item2 in logarithmic_regularization:\n",
    "        svm_gaussian(train_x,train_y,test_x,test_y,item,item2,valid_gaus)\n",
    "    max_pair = list(valid_gaus.keys())[list(valid_gaus.values()).index(max(valid_gaus.values()))]\n",
    "    max_acc = max(list(valid_gaus.values()))\n",
    "    optimal_pairs[max_pair] = max_acc\n",
    "\n"
   ]
  },
  {
   "cell_type": "code",
   "execution_count": 228,
   "metadata": {},
   "outputs": [
    {
     "name": "stdout",
     "output_type": "stream",
     "text": [
      "10 10\n"
     ]
    }
   ],
   "source": [
    "def SVM(scale,regularization,train_acc,test_acc):\n",
    "    sv = svm.SVC(kernel='rbf',gamma=scale,C=regularization)\n",
    "    sv.fit(new_X_train,new_y_train)\n",
    "\n",
    "    train_acc[(scale,regularization)] = sv.score(new_X_train,new_y_train)\n",
    "    test_acc[(scale,regularization)] = sv.score(new_X_test,new_y_test)\n",
    "\n",
    "train_acc,test_acc = {},{}\n",
    "for item in optimal_pairs.keys():\n",
    "    scale = item[0]\n",
    "    regularization = item[1]\n",
    "    SVM(scale,regularization,train_acc,test_acc)\n",
    "\n",
    "# print(len(train_acc),len(test_acc))\n"
   ]
  },
  {
   "cell_type": "code",
   "execution_count": 252,
   "metadata": {},
   "outputs": [
    {
     "data": {
      "image/png": "[encoded data removed]",
      "text/plain": [
       "<Figure size 432x288 with 1 Axes>"
      ]
     },
     "metadata": {
      "needs_background": "light"
     },
     "output_type": "display_data"
    }
   ],
   "source": [
    "plt.title(\"SVM with varying gamma and optimal regularization parameter\")\n",
    "plt.xlabel(\"Gamma\")\n",
    "plt.ylabel(\"Accuracy\")\n",
    "x_axis_train = [a_tuple[0] for a_tuple in list(train_acc.keys())]\n",
    "x_axis_test = [a_tuple[0] for a_tuple in list(test_acc.keys())]\n",
    "plt.plot(x_axis_train,list(train_acc.values()))  \n",
    "plt.plot(x_axis_test,list(test_acc.values()))   \n",
    "plt.legend([\"Train\",\"Test\"])\n",
    "plt.show()"
   ]
  }
 ],
 "metadata": {
  "interpreter": {
   "hash": "aee8b7b246df8f9039afb4144a1f6fd8d2ca17a180786b69acc140d282b71a49"
  },
  "kernelspec": {
   "display_name": "Python 3.9.9 64-bit",
   "language": "python",
   "name": "python3"
  },
  "language_info": {
   "codemirror_mode": {
    "name": "ipython",
    "version": 3
   },
   "file_extension": ".py",
   "mimetype": "text/x-python",
   "name": "python",
   "nbconvert_exporter": "python",
   "pygments_lexer": "ipython3",
   "version": "3.9.10"
  },
  "orig_nbformat": 4
 },
 "nbformat": 4,
 "nbformat_minor": 2
}
